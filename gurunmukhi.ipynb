{
 "cells": [
  {
   "cell_type": "code",
   "execution_count": 38,
   "id": "f7d6068b",
   "metadata": {},
   "outputs": [],
   "source": [
    "import numpy as np\n",
    "import tensorflow as tf\n",
    "from tensorflow import keras\n",
    "import pandas as pd\n",
    "from matplotlib import pyplot as plt\n",
    "%matplotlib inline"
   ]
  },
  {
   "cell_type": "code",
   "execution_count": 39,
   "id": "7efe2896",
   "metadata": {},
   "outputs": [
    {
     "name": "stdout",
     "output_type": "stream",
     "text": [
      "['9', '0', '7', '6', '1', '8', '4', '3', '2', '5']\n",
      "{'9': 9, '0': 0, '7': 7, '6': 6, '1': 1, '8': 8, '4': 4, '3': 3, '2': 2}\n"
     ]
    }
   ],
   "source": [
    "import os\n",
    "path = \"/Users/devdgenus6572gmail.com/Desktop/IIT/neural network/train/\"\n",
    "files = os.listdir(path)\n",
    "files = [f for f in os.listdir(path) if not f.startswith('.')]\n",
    "print(files)\n",
    "\n",
    "classes = {files[i]: int(files[i]) for i in range(0, 9)}\n",
    "\n",
    "print(classes)"
   ]
  },
  {
   "cell_type": "code",
   "execution_count": 40,
   "id": "2d31b43c",
   "metadata": {},
   "outputs": [],
   "source": [
    "import cv2"
   ]
  },
  {
   "cell_type": "code",
   "execution_count": 41,
   "id": "08419faf",
   "metadata": {},
   "outputs": [
    {
     "name": "stdout",
     "output_type": "stream",
     "text": [
      "dataset created\n"
     ]
    }
   ],
   "source": [
    "X = []\n",
    "Y = []\n",
    "\n",
    "for cl in classes:\n",
    "    pth=path+cl\n",
    "#    print(pth)\n",
    "    for img_name in os.listdir(pth):\n",
    "#        print(img_name)\n",
    "        img = cv2.imread(pth+\"/\"+img_name,0)\n",
    "#        print(img)\n",
    "        X.append(img)\n",
    "        Y.append(cl)\n",
    "print('dataset created')\n"
   ]
  },
  {
   "cell_type": "code",
   "execution_count": 42,
   "id": "82482e74",
   "metadata": {},
   "outputs": [
    {
     "data": {
      "text/plain": [
       "9    100\n",
       "0    100\n",
       "7    100\n",
       "6    100\n",
       "1    100\n",
       "8    100\n",
       "4    100\n",
       "3    100\n",
       "2    100\n",
       "dtype: int64"
      ]
     },
     "execution_count": 42,
     "metadata": {},
     "output_type": "execute_result"
    }
   ],
   "source": [
    "pd.Series(Y).value_counts()"
   ]
  },
  {
   "cell_type": "code",
   "execution_count": 43,
   "id": "34565775",
   "metadata": {},
   "outputs": [
    {
     "name": "stdout",
     "output_type": "stream",
     "text": [
      "<class 'list'>\n",
      "<class 'numpy.ndarray'>\n"
     ]
    },
    {
     "data": {
      "text/plain": [
       "(900, 32, 32)"
      ]
     },
     "execution_count": 43,
     "metadata": {},
     "output_type": "execute_result"
    }
   ],
   "source": [
    "print(type(X))\n",
    "X = np.array(X)\n",
    "Y = np.array(Y)\n",
    "print(type(X))\n",
    "X.shape\n"
   ]
  },
  {
   "cell_type": "code",
   "execution_count": 44,
   "id": "eeb28dc7",
   "metadata": {},
   "outputs": [
    {
     "name": "stdout",
     "output_type": "stream",
     "text": [
      "actual number 3\n"
     ]
    },
    {
     "data": {
      "image/png": "[encoded data removed]",
      "text/plain": [
       "<Figure size 288x288 with 1 Axes>"
      ]
     },
     "metadata": {
      "needs_background": "light"
     },
     "output_type": "display_data"
    }
   ],
   "source": [
    "plt.matshow(X[700])\n",
    "print('actual number',Y[700])"
   ]
  },
  {
   "cell_type": "code",
   "execution_count": 45,
   "id": "088c0643",
   "metadata": {},
   "outputs": [],
   "source": [
    "# X_flattened = X.reshape(len(X),32*32)\n",
    "# X_flattened.shape"
   ]
  },
  {
   "cell_type": "code",
   "execution_count": 46,
   "id": "a37767c7",
   "metadata": {},
   "outputs": [],
   "source": [
    "from sklearn.model_selection import train_test_split\n",
    "\n",
    "X_train, X_test, y_train, y_test = train_test_split(X, Y, test_size=0.2, random_state=42)\n"
   ]
  },
  {
   "cell_type": "code",
   "execution_count": 47,
   "id": "1c744a78",
   "metadata": {},
   "outputs": [
    {
     "data": {
      "text/plain": [
       "180"
      ]
     },
     "execution_count": 47,
     "metadata": {},
     "output_type": "execute_result"
    }
   ],
   "source": [
    "len(X_test)"
   ]
  },
  {
   "cell_type": "code",
   "execution_count": 48,
   "id": "02525b28",
   "metadata": {},
   "outputs": [
    {
     "data": {
      "text/plain": [
       "720"
      ]
     },
     "execution_count": 48,
     "metadata": {},
     "output_type": "execute_result"
    }
   ],
   "source": [
    "len(X_train)"
   ]
  },
  {
   "cell_type": "code",
   "execution_count": 49,
   "id": "2be9018b",
   "metadata": {},
   "outputs": [
    {
     "data": {
      "text/plain": [
       "(32, 32)"
      ]
     },
     "execution_count": 49,
     "metadata": {},
     "output_type": "execute_result"
    }
   ],
   "source": [
    "X_train[0].shape"
   ]
  },
  {
   "cell_type": "code",
   "execution_count": 50,
   "id": "0e526717",
   "metadata": {},
   "outputs": [
    {
     "data": {
      "text/plain": [
       "array([[255, 255, 255, ..., 255, 255, 255],\n",
       "       [255, 255, 255, ...,   0,   0, 255],\n",
       "       [255, 255, 255, ...,   0,   0,   0],\n",
       "       ...,\n",
       "       [255, 255, 255, ..., 255, 255, 255],\n",
       "       [255, 255, 255, ..., 255, 255, 255],\n",
       "       [255, 255, 255, ..., 255, 255, 255]], dtype=uint8)"
      ]
     },
     "execution_count": 50,
     "metadata": {},
     "output_type": "execute_result"
    }
   ],
   "source": [
    "X_train[0]"
   ]
  },
  {
   "cell_type": "code",
   "execution_count": 51,
   "id": "83c32cc7",
   "metadata": {},
   "outputs": [
    {
     "data": {
      "text/plain": [
       "<matplotlib.image.AxesImage at 0x7f7ad270b3a0>"
      ]
     },
     "execution_count": 51,
     "metadata": {},
     "output_type": "execute_result"
    },
    {
     "data": {
      "image/png": "[encoded data removed]",
      "text/plain": [
       "<Figure size 288x288 with 1 Axes>"
      ]
     },
     "metadata": {
      "needs_background": "light"
     },
     "output_type": "display_data"
    }
   ],
   "source": [
    "plt.matshow(X_train[6])"
   ]
  },
  {
   "cell_type": "code",
   "execution_count": 52,
   "id": "66075e57",
   "metadata": {},
   "outputs": [
    {
     "data": {
      "text/plain": [
       "array(['9', '6', '7', '4', '6', '8', '0'], dtype='<U1')"
      ]
     },
     "execution_count": 52,
     "metadata": {},
     "output_type": "execute_result"
    }
   ],
   "source": [
    "y_train[:7]"
   ]
  },
  {
   "cell_type": "code",
   "execution_count": 53,
   "id": "4c615662",
   "metadata": {},
   "outputs": [
    {
     "data": {
      "text/plain": [
       "(720, 32, 32)"
      ]
     },
     "execution_count": 53,
     "metadata": {},
     "output_type": "execute_result"
    }
   ],
   "source": [
    "X_train.shape"
   ]
  },
  {
   "cell_type": "markdown",
   "id": "60f472c8",
   "metadata": {},
   "source": [
    "# Scaling is done below but without scaling also it is running well."
   ]
  },
  {
   "cell_type": "code",
   "execution_count": 54,
   "id": "366a710c",
   "metadata": {},
   "outputs": [],
   "source": [
    "X_train=X_train/255\n",
    "X_test=X_test/255"
   ]
  },
  {
   "cell_type": "code",
   "execution_count": 55,
   "id": "275e228e",
   "metadata": {},
   "outputs": [
    {
     "data": {
      "text/plain": [
       "array([[1., 1., 1., ..., 1., 1., 1.],\n",
       "       [1., 1., 1., ..., 0., 0., 1.],\n",
       "       [1., 1., 1., ..., 0., 0., 0.],\n",
       "       ...,\n",
       "       [1., 1., 1., ..., 1., 1., 1.],\n",
       "       [1., 1., 1., ..., 1., 1., 1.],\n",
       "       [1., 1., 1., ..., 1., 1., 1.]])"
      ]
     },
     "execution_count": 55,
     "metadata": {},
     "output_type": "execute_result"
    }
   ],
   "source": [
    "X_train[0]"
   ]
  },
  {
   "cell_type": "code",
   "execution_count": 56,
   "id": "0640f152",
   "metadata": {},
   "outputs": [
    {
     "data": {
      "text/plain": [
       "(180, 1024)"
      ]
     },
     "execution_count": 56,
     "metadata": {},
     "output_type": "execute_result"
    }
   ],
   "source": [
    "X_train_flattened=X_train.reshape(len(X_train),32*32)\n",
    "X_test_flattened=X_test.reshape(len(X_test),32*32)\n",
    "X_test_flattened.shape\n",
    "\n"
   ]
  },
  {
   "cell_type": "code",
   "execution_count": 57,
   "id": "42da6c5c",
   "metadata": {},
   "outputs": [
    {
     "data": {
      "text/plain": [
       "(720, 1024)"
      ]
     },
     "execution_count": 57,
     "metadata": {},
     "output_type": "execute_result"
    }
   ],
   "source": [
    "X_train_flattened.shape"
   ]
  },
  {
   "cell_type": "code",
   "execution_count": 58,
   "id": "aff749d3",
   "metadata": {},
   "outputs": [
    {
     "data": {
      "text/plain": [
       "array([9, 6, 7, 4, 6, 8, 0, 7, 6, 9, 9, 1, 8, 2, 6, 9, 4, 6, 2, 1, 3, 8,\n",
       "       4, 7, 3, 8, 6, 3, 2, 3, 6, 8, 6, 3, 1, 1, 1, 7, 9, 1, 0, 6, 1, 0,\n",
       "       0, 4, 8, 2, 6, 6, 1, 2, 6, 9, 7, 8, 1, 7, 0, 8, 2, 8, 6, 1, 6, 1,\n",
       "       8, 1, 2, 6, 8, 4, 4, 7, 2, 9, 0, 7, 8, 2, 6, 1, 0, 1, 8, 8, 4, 4,\n",
       "       3, 7, 4, 3, 7, 0, 2, 1, 2, 2, 9, 2, 0, 2, 2, 9, 0, 8, 1, 0, 0, 9,\n",
       "       1, 0, 6, 3, 4, 8, 0, 0, 9, 8, 6, 9, 4, 6, 2, 0, 7, 7, 8, 2, 0, 3,\n",
       "       6, 0, 9, 8, 0, 1, 9, 4, 6, 8, 9, 4, 1, 1, 9, 1, 2, 3, 7, 4, 4, 3,\n",
       "       6, 9, 2, 6, 9, 9, 7, 7, 6, 2, 9, 0, 6, 3, 7, 8, 4, 4, 8, 8, 4, 0,\n",
       "       4, 1, 1, 0, 7, 3, 3, 9, 0, 8, 1, 0, 0, 1, 9, 3, 9, 6, 2, 2, 2, 8,\n",
       "       8, 9, 9, 2, 9, 9, 6, 0, 3, 8, 3, 2, 0, 8, 3, 8, 0, 4, 3, 3, 6, 7,\n",
       "       1, 6, 3, 9, 9, 4, 7, 1, 1, 3, 6, 7, 8, 1, 1, 6, 8, 9, 7, 9, 6, 7,\n",
       "       4, 3, 2, 8, 6, 3, 8, 7, 7, 9, 8, 1, 4, 7, 0, 3, 1, 3, 0, 9, 2, 8,\n",
       "       7, 9, 8, 0, 7, 4, 8, 7, 9, 3, 0, 0, 3, 7, 7, 9, 2, 4, 2, 6, 8, 0,\n",
       "       7, 4, 0, 7, 2, 4, 9, 3, 7, 6, 4, 0, 3, 8, 2, 3, 6, 7, 4, 6, 1, 6,\n",
       "       6, 9, 6, 6, 1, 8, 7, 0, 2, 3, 0, 2, 9, 4, 7, 8, 0, 1, 1, 4, 2, 3,\n",
       "       0, 0, 6, 6, 2, 0, 0, 3, 9, 6, 2, 0, 1, 6, 2, 6, 9, 2, 3, 3, 1, 2,\n",
       "       9, 0, 7, 3, 4, 4, 3, 0, 7, 8, 9, 0, 6, 7, 8, 2, 0, 0, 8, 0, 6, 4,\n",
       "       4, 3, 4, 2, 8, 2, 9, 2, 0, 4, 0, 9, 8, 9, 2, 3, 8, 4, 1, 7, 8, 7,\n",
       "       9, 3, 1, 2, 6, 7, 9, 2, 6, 1, 2, 3, 4, 0, 3, 2, 8, 2, 2, 8, 2, 0,\n",
       "       4, 0, 4, 4, 4, 0, 7, 4, 0, 1, 1, 8, 0, 9, 0, 1, 2, 7, 3, 2, 9, 3,\n",
       "       9, 1, 7, 6, 4, 8, 4, 4, 4, 7, 4, 7, 1, 0, 3, 3, 8, 1, 0, 0, 4, 2,\n",
       "       4, 6, 1, 6, 0, 0, 3, 4, 0, 2, 0, 4, 7, 7, 1, 0, 0, 7, 1, 7, 1, 3,\n",
       "       0, 4, 1, 3, 4, 2, 7, 4, 2, 4, 2, 4, 3, 4, 6, 2, 8, 7, 3, 1, 1, 0,\n",
       "       7, 3, 4, 4, 6, 2, 3, 7, 3, 4, 6, 4, 1, 2, 6, 7, 4, 4, 7, 6, 6, 7,\n",
       "       2, 3, 1, 6, 8, 4, 2, 2, 2, 4, 3, 4, 3, 8, 2, 8, 9, 7, 4, 0, 8, 9,\n",
       "       8, 0, 4, 2, 3, 2, 3, 9, 8, 7, 8, 4, 1, 8, 3, 7, 6, 6, 3, 7, 9, 4,\n",
       "       2, 4, 3, 8, 3, 4, 9, 3, 8, 1, 8, 9, 9, 7, 0, 9, 3, 7, 1, 6, 7, 1,\n",
       "       4, 6, 8, 1, 0, 9, 1, 4, 0, 2, 8, 9, 9, 0, 9, 1, 6, 0, 3, 7, 3, 9,\n",
       "       6, 3, 3, 3, 7, 3, 7, 3, 1, 1, 2, 7, 7, 0, 8, 3, 1, 3, 1, 3, 0, 8,\n",
       "       6, 9, 2, 8, 9, 7, 9, 3, 8, 1, 1, 6, 9, 6, 8, 6, 3, 7, 9, 6, 4, 6,\n",
       "       7, 0, 2, 2, 4, 2, 1, 2, 8, 2, 7, 8, 8, 4, 0, 3, 4, 1, 4, 8, 9, 1,\n",
       "       8, 2, 3, 7, 9, 6, 1, 0, 7, 0, 6, 2, 1, 1, 6, 3, 6, 4, 0, 4, 2, 9,\n",
       "       6, 9, 1, 6, 7, 1, 0, 4, 9, 3, 9, 0, 7, 2, 1, 0])"
      ]
     },
     "execution_count": 58,
     "metadata": {},
     "output_type": "execute_result"
    }
   ],
   "source": [
    "y_train = np.array(y_train)\n",
    "\n",
    "y_train = y_train.astype(int)\n",
    "y_train"
   ]
  },
  {
   "cell_type": "code",
   "execution_count": 59,
   "id": "e1d47693",
   "metadata": {},
   "outputs": [
    {
     "name": "stdout",
     "output_type": "stream",
     "text": [
      "Epoch 1/20\n",
      "23/23 [==============================] - 0s 813us/step - loss: 1.1394 - accuracy: 0.6444\n",
      "Epoch 2/20\n",
      "23/23 [==============================] - 0s 620us/step - loss: 0.3094 - accuracy: 0.9167\n",
      "Epoch 3/20\n",
      "23/23 [==============================] - 0s 684us/step - loss: 0.1977 - accuracy: 0.9500\n",
      "Epoch 4/20\n",
      "23/23 [==============================] - 0s 699us/step - loss: 0.1559 - accuracy: 0.9597\n",
      "Epoch 5/20\n",
      "23/23 [==============================] - 0s 901us/step - loss: 0.0984 - accuracy: 0.9833\n",
      "Epoch 6/20\n",
      "23/23 [==============================] - 0s 814us/step - loss: 0.0777 - accuracy: 0.9917\n",
      "Epoch 7/20\n",
      "23/23 [==============================] - 0s 713us/step - loss: 0.0547 - accuracy: 0.9958\n",
      "Epoch 8/20\n",
      "23/23 [==============================] - 0s 719us/step - loss: 0.0441 - accuracy: 0.9958\n",
      "Epoch 9/20\n",
      "23/23 [==============================] - 0s 738us/step - loss: 0.0391 - accuracy: 1.0000\n",
      "Epoch 10/20\n",
      "23/23 [==============================] - 0s 707us/step - loss: 0.0344 - accuracy: 0.9986\n",
      "Epoch 11/20\n",
      "23/23 [==============================] - 0s 705us/step - loss: 0.0240 - accuracy: 1.0000\n",
      "Epoch 12/20\n",
      "23/23 [==============================] - 0s 706us/step - loss: 0.0216 - accuracy: 1.0000\n",
      "Epoch 13/20\n",
      "23/23 [==============================] - 0s 727us/step - loss: 0.0201 - accuracy: 1.0000\n",
      "Epoch 14/20\n",
      "23/23 [==============================] - 0s 711us/step - loss: 0.0178 - accuracy: 1.0000\n",
      "Epoch 15/20\n",
      "23/23 [==============================] - 0s 720us/step - loss: 0.0143 - accuracy: 1.0000\n",
      "Epoch 16/20\n",
      "23/23 [==============================] - 0s 720us/step - loss: 0.0138 - accuracy: 1.0000\n",
      "Epoch 17/20\n",
      "23/23 [==============================] - 0s 749us/step - loss: 0.0112 - accuracy: 1.0000\n",
      "Epoch 18/20\n",
      "23/23 [==============================] - 0s 744us/step - loss: 0.0112 - accuracy: 1.0000\n",
      "Epoch 19/20\n",
      "23/23 [==============================] - 0s 709us/step - loss: 0.0096 - accuracy: 1.0000\n",
      "Epoch 20/20\n",
      "23/23 [==============================] - 0s 714us/step - loss: 0.0086 - accuracy: 1.0000\n"
     ]
    },
    {
     "data": {
      "text/plain": [
       "<keras.callbacks.History at 0x7f7ac1cbe430>"
      ]
     },
     "execution_count": 59,
     "metadata": {},
     "output_type": "execute_result"
    }
   ],
   "source": [
    "model = keras.Sequential([\n",
    "    keras.layers.Dense(100, input_shape=(1024,), activation='relu'),\n",
    "    keras.layers.Dense(10, activation='sigmoid')\n",
    "])\n",
    "\n",
    "model.compile(optimizer='adam',\n",
    "              loss='sparse_categorical_crossentropy',\n",
    "              metrics=['accuracy'])\n",
    "\n",
    "model.fit(X_train_flattened, y_train, epochs=20)"
   ]
  },
  {
   "cell_type": "code",
   "execution_count": 60,
   "id": "7deb52a0",
   "metadata": {},
   "outputs": [
    {
     "data": {
      "text/plain": [
       "(720, 1024)"
      ]
     },
     "execution_count": 60,
     "metadata": {},
     "output_type": "execute_result"
    }
   ],
   "source": [
    "X_train_flattened.shape"
   ]
  },
  {
   "cell_type": "code",
   "execution_count": 61,
   "id": "8c47e78e",
   "metadata": {},
   "outputs": [
    {
     "data": {
      "text/plain": [
       "array([9, 2, 7, 8, 9, 3, 7, 0, 9, 9, 0, 8, 2, 0, 3, 8, 0, 1, 1, 9, 7, 3,\n",
       "       4, 6, 8, 6, 9, 2, 4, 8, 7, 3, 7, 8, 4, 4, 9, 8, 1, 7, 9, 7, 6, 3,\n",
       "       4, 4, 7, 8, 1, 2, 1, 6, 8, 7, 7, 7, 0, 6, 6, 8, 9, 6, 3, 1, 7, 0,\n",
       "       4, 8, 6, 1, 4, 8, 2, 6, 0, 2, 6, 1, 9, 4, 8, 0, 8, 9, 2, 3, 6, 1,\n",
       "       7, 8, 6, 8, 2, 2, 3, 6, 9, 0, 4, 3, 8, 1, 8, 6, 2, 7, 4, 7, 3, 0,\n",
       "       2, 3, 3, 1, 2, 1, 2, 2, 9, 2, 6, 7, 7, 1, 3, 9, 7, 2, 1, 0, 8, 3,\n",
       "       6, 9, 3, 7, 4, 2, 1, 7, 7, 9, 4, 6, 3, 7, 2, 0, 8, 9, 9, 4, 1, 8,\n",
       "       1, 0, 9, 1, 6, 9, 6, 4, 4, 6, 1, 1, 9, 9, 3, 1, 6, 6, 9, 1, 8, 2,\n",
       "       8, 3, 9, 9])"
      ]
     },
     "execution_count": 61,
     "metadata": {},
     "output_type": "execute_result"
    }
   ],
   "source": [
    "y_test = np.array(y_test)\n",
    "\n",
    "y_test = y_test.astype(int)\n",
    "y_test"
   ]
  },
  {
   "cell_type": "code",
   "execution_count": 62,
   "id": "3b4737b5",
   "metadata": {},
   "outputs": [
    {
     "name": "stdout",
     "output_type": "stream",
     "text": [
      "6/6 [==============================] - 0s 801us/step - loss: 0.1464 - accuracy: 0.9444\n"
     ]
    },
    {
     "data": {
      "text/plain": [
       "[0.1463753581047058, 0.9444444179534912]"
      ]
     },
     "execution_count": 62,
     "metadata": {},
     "output_type": "execute_result"
    }
   ],
   "source": [
    "model.evaluate(X_test_flattened,y_test)"
   ]
  },
  {
   "cell_type": "code",
   "execution_count": 63,
   "id": "713a4c56",
   "metadata": {},
   "outputs": [
    {
     "data": {
      "text/plain": [
       "<matplotlib.image.AxesImage at 0x7f7ac1f54640>"
      ]
     },
     "execution_count": 63,
     "metadata": {},
     "output_type": "execute_result"
    },
    {
     "data": {
      "image/png": "[encoded data removed]",
      "text/plain": [
       "<Figure size 288x288 with 1 Axes>"
      ]
     },
     "metadata": {
      "needs_background": "light"
     },
     "output_type": "display_data"
    }
   ],
   "source": [
    "plt.matshow(X_test[7])"
   ]
  },
  {
   "cell_type": "code",
   "execution_count": null,
   "id": "c0c36970",
   "metadata": {},
   "outputs": [],
   "source": []
  },
  {
   "cell_type": "code",
   "execution_count": 64,
   "id": "f26f26c1",
   "metadata": {},
   "outputs": [
    {
     "name": "stdout",
     "output_type": "stream",
     "text": [
      "6/6 [==============================] - 0s 664us/step\n"
     ]
    },
    {
     "data": {
      "text/plain": [
       "array([[6.7767161e-01, 2.3348872e-02, 2.6456751e-02, ..., 6.9222368e-02,\n",
       "        1.0064162e-01, 9.9966329e-01],\n",
       "       [4.5465145e-04, 7.9022245e-03, 9.9382210e-01, ..., 2.7024981e-03,\n",
       "        6.0999084e-01, 2.8123960e-03],\n",
       "       [1.6352411e-02, 7.7680314e-01, 6.4319032e-01, ..., 9.9996728e-01,\n",
       "        3.8438491e-03, 6.9664992e-02],\n",
       "       ...,\n",
       "       [2.3187776e-01, 7.6531291e-02, 9.9178153e-01, ..., 9.9071795e-01,\n",
       "        7.0821005e-04, 5.9402451e-02],\n",
       "       [1.5001148e-01, 6.2983477e-01, 5.4939021e-03, ..., 6.3546523e-03,\n",
       "        7.6190436e-01, 9.9971879e-01],\n",
       "       [1.5899645e-01, 3.1828254e-01, 2.9565090e-01, ..., 1.7037131e-02,\n",
       "        3.3612732e-02, 9.7844309e-01]], dtype=float32)"
      ]
     },
     "execution_count": 64,
     "metadata": {},
     "output_type": "execute_result"
    }
   ],
   "source": [
    "model.predict(X_test_flattened)"
   ]
  },
  {
   "cell_type": "code",
   "execution_count": 65,
   "id": "f607e816",
   "metadata": {},
   "outputs": [
    {
     "name": "stdout",
     "output_type": "stream",
     "text": [
      "6/6 [==============================] - 0s 644us/step\n"
     ]
    },
    {
     "data": {
      "text/plain": [
       "array([6.7767161e-01, 2.3348872e-02, 2.6456751e-02, 1.5770228e-01,\n",
       "       7.6168627e-01, 9.9172874e-05, 6.8424714e-01, 6.9222368e-02,\n",
       "       1.0064162e-01, 9.9966329e-01], dtype=float32)"
      ]
     },
     "execution_count": 65,
     "metadata": {},
     "output_type": "execute_result"
    }
   ],
   "source": [
    "y_predicted = model.predict(X_test_flattened)\n",
    "y_predicted[0]"
   ]
  },
  {
   "cell_type": "code",
   "execution_count": 66,
   "id": "b41fc5f9",
   "metadata": {},
   "outputs": [
    {
     "data": {
      "text/plain": [
       "9"
      ]
     },
     "execution_count": 66,
     "metadata": {},
     "output_type": "execute_result"
    }
   ],
   "source": [
    "np.argmax(y_predicted[0])"
   ]
  },
  {
   "cell_type": "code",
   "execution_count": 67,
   "id": "b2ed9612",
   "metadata": {},
   "outputs": [
    {
     "data": {
      "text/plain": [
       "9"
      ]
     },
     "execution_count": 67,
     "metadata": {},
     "output_type": "execute_result"
    }
   ],
   "source": [
    "y_predicted_labels=[np.argmax(i) for i in y_predicted]\n",
    "y_predicted_labels[0]"
   ]
  },
  {
   "cell_type": "code",
   "execution_count": 68,
   "id": "a37955f9",
   "metadata": {},
   "outputs": [
    {
     "data": {
      "text/plain": [
       "array([9, 2, 7, 8, 9, 3, 7, 0, 9, 9, 0, 8, 2, 0, 3, 8, 0, 1, 1, 9, 7, 3,\n",
       "       4, 6, 8, 6, 9, 2, 4, 8, 7, 3, 7, 8, 4, 4, 9, 8, 1, 7, 9, 7, 6, 3,\n",
       "       4, 4, 7, 8, 1, 2, 1, 6, 8, 7, 7, 7, 0, 6, 6, 8, 9, 6, 3, 1, 7, 0,\n",
       "       4, 8, 6, 1, 4, 8, 2, 6, 0, 2, 6, 1, 9, 4, 8, 0, 8, 9, 2, 3, 6, 1,\n",
       "       7, 8, 6, 8, 2, 2, 3, 6, 9, 0, 4, 3, 8, 1, 8, 6, 2, 7, 4, 7, 3, 0,\n",
       "       2, 3, 3, 1, 2, 1, 2, 2, 9, 2, 6, 7, 7, 1, 3, 9, 7, 2, 1, 0, 8, 3,\n",
       "       6, 9, 3, 7, 4, 2, 1, 7, 7, 9, 4, 6, 3, 7, 2, 0, 8, 9, 9, 4, 1, 8,\n",
       "       1, 0, 9, 1, 6, 9, 6, 4, 4, 6, 1, 1, 9, 9, 3, 1, 6, 6, 9, 1, 8, 2,\n",
       "       8, 3, 9, 9])"
      ]
     },
     "execution_count": 68,
     "metadata": {},
     "output_type": "execute_result"
    }
   ],
   "source": [
    "y_test"
   ]
  },
  {
   "cell_type": "code",
   "execution_count": 69,
   "id": "67628461",
   "metadata": {},
   "outputs": [
    {
     "data": {
      "text/plain": [
       "<tf.Tensor: shape=(10, 10), dtype=int32, numpy=\n",
       "array([[13,  0,  0,  0,  0,  0,  0,  0,  0,  0],\n",
       "       [ 0, 21,  0,  0,  0,  0,  0,  1,  0,  0],\n",
       "       [ 0,  0, 19,  0,  0,  0,  0,  0,  0,  0],\n",
       "       [ 0,  0,  2, 15,  1,  0,  0,  0,  0,  0],\n",
       "       [ 0,  0,  0,  0, 16,  0,  0,  0,  0,  0],\n",
       "       [ 0,  0,  0,  0,  0,  0,  0,  0,  0,  0],\n",
       "       [ 0,  0,  0,  0,  0,  0, 22,  0,  0,  0],\n",
       "       [ 0,  0,  0,  0,  0,  0,  0, 22,  0,  0],\n",
       "       [ 0,  0,  0,  0,  0,  0,  0,  0, 22,  1],\n",
       "       [ 0,  0,  0,  0,  0,  0,  5,  0,  0, 20]], dtype=int32)>"
      ]
     },
     "execution_count": 69,
     "metadata": {},
     "output_type": "execute_result"
    }
   ],
   "source": [
    "cm=tf.math.confusion_matrix(labels=y_test,predictions=y_predicted_labels)\n",
    "cm"
   ]
  },
  {
   "cell_type": "code",
   "execution_count": 70,
   "id": "c7880091",
   "metadata": {},
   "outputs": [
    {
     "data": {
      "text/plain": [
       "Text(69.0, 0.5, 'Truth')"
      ]
     },
     "execution_count": 70,
     "metadata": {},
     "output_type": "execute_result"
    },
    {
     "data": {
      "image/png": "[encoded data removed]",
      "text/plain": [
       "<Figure size 720x504 with 2 Axes>"
      ]
     },
     "metadata": {
      "needs_background": "light"
     },
     "output_type": "display_data"
    }
   ],
   "source": [
    "import seaborn as sn\n",
    "plt.figure(figsize = (10,7))\n",
    "sn.heatmap(cm, annot=True, fmt='d')\n",
    "plt.xlabel('Predicted')\n",
    "plt.ylabel('Truth')"
   ]
  },
  {
   "cell_type": "code",
   "execution_count": null,
   "id": "1a4ad5c8",
   "metadata": {},
   "outputs": [],
   "source": []
  }
 ],
 "metadata": {
  "kernelspec": {
   "display_name": "Python 3 (ipykernel)",
   "language": "python",
   "name": "python3"
  },
  "language_info": {
   "codemirror_mode": {
    "name": "ipython",
    "version": 3
   },
   "file_extension": ".py",
   "mimetype": "text/x-python",
   "name": "python",
   "nbconvert_exporter": "python",
   "pygments_lexer": "ipython3",
   "version": "3.9.12"
  }
 },
 "nbformat": 4,
 "nbformat_minor": 5
}
